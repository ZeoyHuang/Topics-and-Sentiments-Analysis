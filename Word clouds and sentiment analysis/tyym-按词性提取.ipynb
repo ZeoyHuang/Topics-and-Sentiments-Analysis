{
 "cells": [
  {
   "cell_type": "code",
   "execution_count": 1,
   "id": "4e006638",
   "metadata": {},
   "outputs": [],
   "source": [
    "from snownlp import SnowNLP\n",
    "import pandas as pd\n",
    "import jieba\n",
    "from jieba import analyse"
   ]
  },
  {
   "cell_type": "code",
   "execution_count": 30,
   "id": "aba9ade4",
   "metadata": {
    "scrolled": true
   },
   "outputs": [],
   "source": [
    "data1=pd.read_csv('分时数据\\High Plateau Period.csv',encoding = 'utf-8')\n",
    "data2=pd.read_csv('分时数据\\Increase Period.csv',encoding = 'utf-8')\n",
    "data3=pd.read_csv('分时数据\\Incubation Period.csv',encoding = 'utf-8')\n",
    "data4=pd.read_csv('分时数据\\Recession Period.csv',encoding = 'utf-8')\n",
    "data5=pd.read_csv('分时数据\\上海疫情（汇总版）.csv',encoding = 'utf-8')"
   ]
  },
  {
   "cell_type": "code",
   "execution_count": 31,
   "id": "b492b13a",
   "metadata": {},
   "outputs": [
    {
     "name": "stdout",
     "output_type": "stream",
     "text": [
      "成功导出数据\n"
     ]
    }
   ],
   "source": [
    "data = data5\n",
    "stop_words = stopwords = [line.strip() for line in open('stopwords-master\\stopwords.txt', 'r',encoding='utf-8').readlines()]\n",
    "text = ''\n",
    "for i in data['微博正文']:\n",
    "    if i not in stop_words:\n",
    "        text+=i\n",
    "\n",
    "key_words = jieba.analyse.set_stop_words('stopwords-master\\stopwords.txt')    #设置停用词\n",
    "key_words_n = jieba.analyse.extract_tags(sentence=text, topK=10, withWeight=True, allowPOS=('n'))\n",
    "key_words_a = jieba.analyse.extract_tags(sentence=text, topK=10, withWeight=True, allowPOS=('a'))\n",
    "key_words_v = jieba.analyse.extract_tags(sentence=text, topK=10, withWeight=True, allowPOS=('v'))\n",
    "df=pd.DataFrame()\n",
    "df['名词']=key_words_n\n",
    "df['形容词']=key_words_a\n",
    "df['动词']=key_words_v\n",
    "df.to_csv('分时数据\\上海疫情（汇总版）分词性数据.csv',encoding='utf-8_sig')\n",
    "print('成功导出数据')"
   ]
  }
 ],
 "metadata": {
  "kernelspec": {
   "display_name": "Python 3 (ipykernel)",
   "language": "python",
   "name": "python3"
  },
  "language_info": {
   "codemirror_mode": {
    "name": "ipython",
    "version": 3
   },
   "file_extension": ".py",
   "mimetype": "text/x-python",
   "name": "python",
   "nbconvert_exporter": "python",
   "pygments_lexer": "ipython3",
   "version": "3.9.7"
  }
 },
 "nbformat": 4,
 "nbformat_minor": 5
}
